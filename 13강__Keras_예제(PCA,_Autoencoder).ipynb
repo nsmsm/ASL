{
  "nbformat": 4,
  "nbformat_minor": 0,
  "metadata": {
    "colab": {
      "name": "13강_ Keras 예제(PCA, Autoencoder)",
      "provenance": [],
      "collapsed_sections": [],
      "authorship_tag": "ABX9TyO+HTqCW+7UnjJnWSPJRgJl",
      "include_colab_link": true
    },
    "kernelspec": {
      "name": "python3",
      "display_name": "Python 3"
    },
    "accelerator": "GPU"
  },
  "cells": [
    {
      "cell_type": "markdown",
      "metadata": {
        "id": "view-in-github",
        "colab_type": "text"
      },
      "source": [
        "<a href=\"https://colab.research.google.com/github/nsmsm/ASL/blob/master/13%EA%B0%95__Keras_%EC%98%88%EC%A0%9C(PCA%2C_Autoencoder).ipynb\" target=\"_parent\"><img src=\"https://colab.research.google.com/assets/colab-badge.svg\" alt=\"Open In Colab\"/></a>"
      ]
    },
    {
      "cell_type": "markdown",
      "metadata": {
        "id": "QMAsFlpC7Hmv"
      },
      "source": [
        "#주성분 분석 예제\n",
        "\n"
      ]
    },
    {
      "cell_type": "markdown",
      "metadata": {
        "id": "067X-5zW8LDI"
      },
      "source": [
        "##MNIST 모듈 및 PCA 함수 불러오기"
      ]
    },
    {
      "cell_type": "code",
      "metadata": {
        "id": "rWbegeOW7KOc"
      },
      "source": [
        "from keras.datasets import mnist\n",
        "from sklearn.decomposition import PCA\n"
      ],
      "execution_count": 6,
      "outputs": []
    },
    {
      "cell_type": "markdown",
      "metadata": {
        "id": "sF6O_9ys8QWD"
      },
      "source": [
        "##MNIST 자료를 불러오고 형태 변환 (28,28) → (28*28)"
      ]
    },
    {
      "cell_type": "code",
      "metadata": {
        "id": "V1bKYGGR7fwI"
      },
      "source": [
        "(X_train, y_train), (X_test, y_test) = mnist.load_data()\n",
        "X_train = X_train.reshape(X_train.shape[0], 28*28) \n",
        "X_test = X_test.reshape(X_test.shape[0], 28*28) \n"
      ],
      "execution_count": 7,
      "outputs": []
    },
    {
      "cell_type": "markdown",
      "metadata": {
        "id": "h7gaQ_ri8xeb"
      },
      "source": [
        "##훈련자료를 이용해 주성분 찾기(n_components는 찾을 주성분의 개수)"
      ]
    },
    {
      "cell_type": "code",
      "metadata": {
        "colab": {
          "base_uri": "https://localhost:8080/",
          "height": 194
        },
        "id": "VzlT5gNL8zDf",
        "outputId": "074d0f70-6a13-4bc8-fc9f-7851c152388d"
      },
      "source": [
        "pca = PCA(n_components = 10)\n",
        "pca,fit(X_train)\n"
      ],
      "execution_count": 12,
      "outputs": [
        {
          "output_type": "error",
          "ename": "NameError",
          "evalue": "ignored",
          "traceback": [
            "\u001b[0;31m---------------------------------------------------------------------------\u001b[0m",
            "\u001b[0;31mNameError\u001b[0m                                 Traceback (most recent call last)",
            "\u001b[0;32m<ipython-input-12-a9d0321c09bc>\u001b[0m in \u001b[0;36m<module>\u001b[0;34m()\u001b[0m\n\u001b[1;32m      1\u001b[0m \u001b[0mpca\u001b[0m \u001b[0;34m=\u001b[0m \u001b[0mPCA\u001b[0m\u001b[0;34m(\u001b[0m\u001b[0mn_components\u001b[0m \u001b[0;34m=\u001b[0m \u001b[0;36m10\u001b[0m\u001b[0;34m)\u001b[0m\u001b[0;34m\u001b[0m\u001b[0;34m\u001b[0m\u001b[0m\n\u001b[0;32m----> 2\u001b[0;31m \u001b[0mpca\u001b[0m\u001b[0;34m,\u001b[0m\u001b[0mfit\u001b[0m\u001b[0;34m(\u001b[0m\u001b[0mX_train\u001b[0m\u001b[0;34m)\u001b[0m\u001b[0;34m\u001b[0m\u001b[0;34m\u001b[0m\u001b[0m\n\u001b[0m",
            "\u001b[0;31mNameError\u001b[0m: name 'fit' is not defined"
          ]
        }
      ]
    },
    {
      "cell_type": "code",
      "metadata": {
        "colab": {
          "base_uri": "https://localhost:8080/",
          "height": 138
        },
        "id": "n5NDdNdX9Cey",
        "outputId": "80dd07d7-b8e5-41ef-f5be-8d0c8708c0ec"
      },
      "source": [
        "PCA(copy=True, iterated_power=’auto’, n_components=10, random_state=None, svd_solver='auto’, tol=0.0, whiten=False)"
      ],
      "execution_count": 11,
      "outputs": [
        {
          "output_type": "error",
          "ename": "SyntaxError",
          "evalue": "ignored",
          "traceback": [
            "\u001b[0;36m  File \u001b[0;32m\"<ipython-input-11-c56e4e5d9c86>\"\u001b[0;36m, line \u001b[0;32m1\u001b[0m\n\u001b[0;31m    PCA(copy=True, iterated_power=’auto’, n_components=10, random_state=None, svd_solver='auto’, tol=0.0, whiten=False)\u001b[0m\n\u001b[0m                                       ^\u001b[0m\n\u001b[0;31mSyntaxError\u001b[0m\u001b[0;31m:\u001b[0m invalid character in identifier\n"
          ]
        }
      ]
    },
    {
      "cell_type": "markdown",
      "metadata": {
        "id": "rkRf7ugm9lTj"
      },
      "source": [
        "##10 개의 주성분을 그림으로 보기"
      ]
    },
    {
      "cell_type": "code",
      "metadata": {
        "colab": {
          "base_uri": "https://localhost:8080/",
          "height": 138
        },
        "id": "qA5llsuc9nCr",
        "outputId": "7084036a-6d7e-460d-9971-4393eedf90df"
      },
      "source": [
        "import matplotlib.pyplot as plt\n",
        "plt.figure(figsize=(15,3)\n",
        "for i in range(10)\n",
        "    plt.subplot(1, 10, i+1)\n",
        "    plt.axis(‘off’)\n",
        "    plt.imshow(pca.components_[i] . reshape(28,28), cmap=’gray’)\n",
        "plt.show()\n"
      ],
      "execution_count": 13,
      "outputs": [
        {
          "output_type": "error",
          "ename": "SyntaxError",
          "evalue": "ignored",
          "traceback": [
            "\u001b[0;36m  File \u001b[0;32m\"<ipython-input-13-8176aea72ec2>\"\u001b[0;36m, line \u001b[0;32m3\u001b[0m\n\u001b[0;31m    for i in range(10)\u001b[0m\n\u001b[0m      ^\u001b[0m\n\u001b[0;31mSyntaxError\u001b[0m\u001b[0;31m:\u001b[0m invalid syntax\n"
          ]
        }
      ]
    },
    {
      "cell_type": "markdown",
      "metadata": {
        "id": "S_hu7DMG96r7"
      },
      "source": [
        "#오토 인코더 예제"
      ]
    },
    {
      "cell_type": "markdown",
      "metadata": {
        "id": "8nIeZmDF989R"
      },
      "source": [
        "##MNIST 모듈 및 신경망 구성 요소 불러오기"
      ]
    },
    {
      "cell_type": "code",
      "metadata": {
        "id": "tOYKHfU_9_Ih"
      },
      "source": [
        "from keras.datasets import mnist\n",
        "from keras.layers import Input, Dense\n",
        "from keras.models import Sequential\n"
      ],
      "execution_count": 14,
      "outputs": []
    },
    {
      "cell_type": "markdown",
      "metadata": {
        "id": "mxrb9vpx-Cvt"
      },
      "source": [
        "##MNIST 자료를 불러오고 형태 변환 (28,28) → (28*28), 각 픽셀 값을 [0,1]로 정규화"
      ]
    },
    {
      "cell_type": "code",
      "metadata": {
        "colab": {
          "base_uri": "https://localhost:8080/",
          "height": 138
        },
        "id": "PhbBMJZ4-H2t",
        "outputId": "8de285fb-1a10-4c54-9437-a87308e3bbfe"
      },
      "source": [
        "(X_train, y_train), (X_test, y_test) = mnist.load_data()\n",
        "X_train = X_train.reshape(X_train.shape[0], 28*28) \n",
        "X_test = X_test.reshape(X_test.shape[0], 28*28) \n",
        "X_train = X_train.astype(‘float32’)/255 \n",
        "X_test = X_test. astype(‘float32’)/255\n"
      ],
      "execution_count": 15,
      "outputs": [
        {
          "output_type": "error",
          "ename": "SyntaxError",
          "evalue": "ignored",
          "traceback": [
            "\u001b[0;36m  File \u001b[0;32m\"<ipython-input-15-78ee27fa1486>\"\u001b[0;36m, line \u001b[0;32m4\u001b[0m\n\u001b[0;31m    X_train = X_train.astype(‘float32’)/255\u001b[0m\n\u001b[0m                                     ^\u001b[0m\n\u001b[0;31mSyntaxError\u001b[0m\u001b[0;31m:\u001b[0m invalid character in identifier\n"
          ]
        }
      ]
    },
    {
      "cell_type": "markdown",
      "metadata": {
        "id": "R9Y8ioB7-Q0v"
      },
      "source": [
        "##모형 생성"
      ]
    },
    {
      "cell_type": "markdown",
      "metadata": {
        "id": "tTgbTKuT-eIK"
      },
      "source": [
        "###* 인코더 , 디코더 모두 하나의 fully connected layer로 구성\n",
        "###* 디코더에 sigmoid 활성함수를 적용해 결과 역시 [0,1]의 값을 취하도록 함\n",
        "###* 최적화 방법은 adadelta, 손실함수는 제곱오차를 이용\n"
      ]
    },
    {
      "cell_type": "code",
      "metadata": {
        "colab": {
          "base_uri": "https://localhost:8080/",
          "height": 138
        },
        "id": "DALKXsxo-R2c",
        "outputId": "50f2d0d4-277a-4005-d197-e799995729bd"
      },
      "source": [
        "model = Sequential()\n",
        "model.add(Dense(10, activation= ‘relu’)) # encoder\n",
        "model.add(Dense(784, activation= ‘sigmoid’)) # decoder\n",
        "model.compile(loss=’mean squared error’, optimizer=’adadelta’)\n"
      ],
      "execution_count": 16,
      "outputs": [
        {
          "output_type": "error",
          "ename": "SyntaxError",
          "evalue": "ignored",
          "traceback": [
            "\u001b[0;36m  File \u001b[0;32m\"<ipython-input-16-d3745af72b84>\"\u001b[0;36m, line \u001b[0;32m2\u001b[0m\n\u001b[0;31m    model.add(Dense(10, activation= ‘relu’)) # encoder\u001b[0m\n\u001b[0m                                         ^\u001b[0m\n\u001b[0;31mSyntaxError\u001b[0m\u001b[0;31m:\u001b[0m invalid character in identifier\n"
          ]
        }
      ]
    },
    {
      "cell_type": "markdown",
      "metadata": {
        "id": "ZAKTwFy3-ifI"
      },
      "source": [
        "##모형 학습"
      ]
    },
    {
      "cell_type": "code",
      "metadata": {
        "colab": {
          "base_uri": "https://localhost:8080/",
          "height": 138
        },
        "id": "utRwuLYS-o6j",
        "outputId": "5d469986-3474-4876-b6b4-989a60cae199"
      },
      "source": [
        "hist = model.fit)X-train, X_train, batch_size = 200, epochs = 50, verbose = 1, validation_split = .05)"
      ],
      "execution_count": 17,
      "outputs": [
        {
          "output_type": "error",
          "ename": "SyntaxError",
          "evalue": "ignored",
          "traceback": [
            "\u001b[0;36m  File \u001b[0;32m\"<ipython-input-17-16f553162402>\"\u001b[0;36m, line \u001b[0;32m1\u001b[0m\n\u001b[0;31m    hist = model.fit)X-train, X_train, batch_size = 200, epochs = 50, verbose = 1, validation_split = .05)\u001b[0m\n\u001b[0m                    ^\u001b[0m\n\u001b[0;31mSyntaxError\u001b[0m\u001b[0;31m:\u001b[0m invalid syntax\n"
          ]
        }
      ]
    },
    {
      "cell_type": "markdown",
      "metadata": {
        "id": "FjA1QzdZ-rax"
      },
      "source": [
        "##모형에 테스트 자료 넣은 결과 얻기"
      ]
    },
    {
      "cell_type": "code",
      "metadata": {
        "colab": {
          "base_uri": "https://localhost:8080/",
          "height": 175
        },
        "id": "xPcfEeQg-tOM",
        "outputId": "0e119d7c-055d-43d7-8948-0e9476436edc"
      },
      "source": [
        "X_test_pred = model.predict(X_test)"
      ],
      "execution_count": 18,
      "outputs": [
        {
          "output_type": "error",
          "ename": "NameError",
          "evalue": "ignored",
          "traceback": [
            "\u001b[0;31m---------------------------------------------------------------------------\u001b[0m",
            "\u001b[0;31mNameError\u001b[0m                                 Traceback (most recent call last)",
            "\u001b[0;32m<ipython-input-18-24250e7f8ea4>\u001b[0m in \u001b[0;36m<module>\u001b[0;34m()\u001b[0m\n\u001b[0;32m----> 1\u001b[0;31m \u001b[0mX_test_pred\u001b[0m \u001b[0;34m=\u001b[0m \u001b[0mmodel\u001b[0m\u001b[0;34m.\u001b[0m\u001b[0mpredict\u001b[0m\u001b[0;34m(\u001b[0m\u001b[0mX_test\u001b[0m\u001b[0;34m)\u001b[0m\u001b[0;34m\u001b[0m\u001b[0;34m\u001b[0m\u001b[0m\n\u001b[0m",
            "\u001b[0;31mNameError\u001b[0m: name 'model' is not defined"
          ]
        }
      ]
    },
    {
      "cell_type": "markdown",
      "metadata": {
        "id": "8vcQThnB-wM1"
      },
      "source": [
        "##테스트 자료 중 첫 7개의 원래 그림 및 복원된 그림 보여주기"
      ]
    },
    {
      "cell_type": "code",
      "metadata": {
        "colab": {
          "base_uri": "https://localhost:8080/",
          "height": 138
        },
        "id": "OYvrx8yP-6Cv",
        "outputId": "26bff7c0-d2df-4a00-df4a-6f79877dec6a"
      },
      "source": [
        "import matplotlib.pyplot as plt\n",
        "plt.figure(figsize=(12,3))\n",
        "for i in range(7)\n",
        "    plt.subplot(2, 7, i+1)\n",
        "    plt.axis(‘off’)\n",
        "    plt.imshow(X_test[i] . reshape(28,28), cmap=’gray’)\n",
        "plt.subplot(2, 7, i+8)\n",
        "    plt.axis(‘off’)\n",
        "    plt.imshow(X_test_pred[i] . reshape(28,28), cmap=’gray’)\n",
        "plt.show()\n"
      ],
      "execution_count": 20,
      "outputs": [
        {
          "output_type": "error",
          "ename": "SyntaxError",
          "evalue": "ignored",
          "traceback": [
            "\u001b[0;36m  File \u001b[0;32m\"<ipython-input-20-de03889bb89f>\"\u001b[0;36m, line \u001b[0;32m3\u001b[0m\n\u001b[0;31m    for i in range(7)\u001b[0m\n\u001b[0m                     ^\u001b[0m\n\u001b[0;31mSyntaxError\u001b[0m\u001b[0;31m:\u001b[0m invalid syntax\n"
          ]
        }
      ]
    }
  ]
}