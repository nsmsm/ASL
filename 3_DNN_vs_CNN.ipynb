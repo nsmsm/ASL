{
  "nbformat": 4,
  "nbformat_minor": 0,
  "metadata": {
    "colab": {
      "name": "3.DNN_vs_CNN.ipynb",
      "provenance": [],
      "collapsed_sections": [],
      "include_colab_link": true
    },
    "kernelspec": {
      "name": "python3",
      "display_name": "Python 3"
    },
    "accelerator": "GPU"
  },
  "cells": [
    {
      "cell_type": "markdown",
      "metadata": {
        "id": "view-in-github",
        "colab_type": "text"
      },
      "source": [
        "<a href=\"https://colab.research.google.com/github/nsmsm/ASL/blob/master/3_DNN_vs_CNN.ipynb\" target=\"_parent\"><img src=\"https://colab.research.google.com/assets/colab-badge.svg\" alt=\"Open In Colab\"/></a>"
      ]
    },
    {
      "cell_type": "code",
      "metadata": {
        "id": "AwzEZ0c_Z3xG",
        "outputId": "c138e924-7eee-4d20-c259-58b40fffb724",
        "colab": {
          "base_uri": "https://localhost:8080/",
          "height": 35
        }
      },
      "source": [
        "import tensorflow as tf\n",
        "from tensorflow.keras import datasets, models\n",
        "from tensorflow.keras.layers import Flatten, Dense, Dropout, Conv2D, MaxPool2D\n",
        "from tensorflow.keras.utils import plot_model\n",
        "\n",
        "print(tf.__version__)"
      ],
      "execution_count": null,
      "outputs": [
        {
          "output_type": "stream",
          "text": [
            "2.3.0\n"
          ],
          "name": "stdout"
        }
      ]
    },
    {
      "cell_type": "code",
      "metadata": {
        "id": "4eedw_o-Z-XL",
        "outputId": "198c9c33-5c12-4a58-be76-4ade231f5873",
        "colab": {
          "base_uri": "https://localhost:8080/",
          "height": 53
        }
      },
      "source": [
        "fashion_mnist = datasets.fashion_mnist\n",
        "(train_x, train_y), (test_x, test_y) = fashion_mnist.load_data()\n",
        "\n",
        "## train_x : need for learning DNN\n",
        "## ext_train_x : need for learning CNN\n",
        "train_x = train_x/255.0\n",
        "test_x = test_x/255.0\n",
        "\n",
        "ext_train_x = train_x.reshape((60000, 28, 28, 1))\n",
        "ext_test_x = test_x.reshape((10000, 28, 28, 1))\n",
        "\n",
        "## show the dimensions of train_x and ext_train_x\n",
        "print(train_x.shape)\n",
        "print(ext_train_x.shape)"
      ],
      "execution_count": null,
      "outputs": [
        {
          "output_type": "stream",
          "text": [
            "(60000, 28, 28)\n",
            "(60000, 28, 28, 1)\n"
          ],
          "name": "stdout"
        }
      ]
    },
    {
      "cell_type": "code",
      "metadata": {
        "id": "ySQQ_8oDaJPr",
        "outputId": "517a8470-07a8-4ec1-8c03-d0956e2987d8",
        "colab": {
          "base_uri": "https://localhost:8080/",
          "height": 737
        }
      },
      "source": [
        "## Define a DNN model and a CNN model\n",
        "## set the number of params. of DNN and the number of params. of CNN to be similar\n",
        "\n",
        "## DNN model\n",
        "dnn_model = models.Sequential([\n",
        "  Flatten(input_shape=(28,28)),\n",
        "  Dense(110, activation='relu'),\n",
        "  Dense(100, activation='relu'),\n",
        "  Dense(10, activation='softmax')]\n",
        ")\n",
        "\n",
        "## CNN model\n",
        "cnn_model = models.Sequential([\n",
        "  Conv2D(32, (3, 3), activation='relu', input_shape=(28, 28, 1)),\n",
        "  MaxPool2D(pool_size=(2, 2), strides=(2,2), padding='valid'),\n",
        "  Conv2D(64, (3, 3), activation='relu'),\n",
        "  MaxPool2D(pool_size=(2, 2), strides=(2,2), padding='valid'),\n",
        "  Conv2D(64, (3, 3), activation='relu'),\n",
        "  Flatten(),\n",
        "  Dense(64, activation='relu'),\n",
        "  Dense(10, activation='softmax')\n",
        "])\n",
        "\n",
        "dnn_model.summary()\n",
        "cnn_model.summary()"
      ],
      "execution_count": null,
      "outputs": [
        {
          "output_type": "stream",
          "text": [
            "Model: \"sequential_19\"\n",
            "_________________________________________________________________\n",
            "Layer (type)                 Output Shape              Param #   \n",
            "=================================================================\n",
            "flatten_19 (Flatten)         (None, 784)               0         \n",
            "_________________________________________________________________\n",
            "dense_46 (Dense)             (None, 110)               86350     \n",
            "_________________________________________________________________\n",
            "dense_47 (Dense)             (None, 100)               11100     \n",
            "_________________________________________________________________\n",
            "dense_48 (Dense)             (None, 10)                1010      \n",
            "=================================================================\n",
            "Total params: 98,460\n",
            "Trainable params: 98,460\n",
            "Non-trainable params: 0\n",
            "_________________________________________________________________\n",
            "Model: \"sequential_20\"\n",
            "_________________________________________________________________\n",
            "Layer (type)                 Output Shape              Param #   \n",
            "=================================================================\n",
            "conv2d_33 (Conv2D)           (None, 26, 26, 32)        320       \n",
            "_________________________________________________________________\n",
            "max_pooling2d_22 (MaxPooling (None, 13, 13, 32)        0         \n",
            "_________________________________________________________________\n",
            "conv2d_34 (Conv2D)           (None, 11, 11, 64)        18496     \n",
            "_________________________________________________________________\n",
            "max_pooling2d_23 (MaxPooling (None, 5, 5, 64)          0         \n",
            "_________________________________________________________________\n",
            "conv2d_35 (Conv2D)           (None, 3, 3, 64)          36928     \n",
            "_________________________________________________________________\n",
            "flatten_20 (Flatten)         (None, 576)               0         \n",
            "_________________________________________________________________\n",
            "dense_49 (Dense)             (None, 64)                36928     \n",
            "_________________________________________________________________\n",
            "dense_50 (Dense)             (None, 10)                650       \n",
            "=================================================================\n",
            "Total params: 93,322\n",
            "Trainable params: 93,322\n",
            "Non-trainable params: 0\n",
            "_________________________________________________________________\n"
          ],
          "name": "stdout"
        }
      ]
    },
    {
      "cell_type": "code",
      "metadata": {
        "id": "8bAHrCPtcOSj",
        "outputId": "acd1bef5-4e36-420e-987f-28949e31b45e",
        "colab": {
          "base_uri": "https://localhost:8080/",
          "height": 1000
        }
      },
      "source": [
        "dnn_model.compile(optimizer='adam', loss='sparse_categorical_crossentropy', metrics=['accuracy'])\n",
        "cnn_model.compile(optimizer='adam', loss='sparse_categorical_crossentropy', metrics=['accuracy'])\n",
        "\n",
        "dnn_hist=dnn_model.fit(train_x, train_y, epochs=20, batch_size=100, validation_split=0.10)\n",
        "cnn_hist=cnn_model.fit(ext_train_x, train_y, epochs=20, batch_size=100, validation_split=0.10)"
      ],
      "execution_count": null,
      "outputs": [
        {
          "output_type": "stream",
          "text": [
            "Epoch 1/20\n",
            "540/540 [==============================] - 1s 2ms/step - loss: 0.5383 - accuracy: 0.8119 - val_loss: 0.4293 - val_accuracy: 0.8507\n",
            "Epoch 2/20\n",
            "540/540 [==============================] - 1s 2ms/step - loss: 0.3822 - accuracy: 0.8637 - val_loss: 0.3605 - val_accuracy: 0.8672\n",
            "Epoch 3/20\n",
            "540/540 [==============================] - 1s 2ms/step - loss: 0.3436 - accuracy: 0.8757 - val_loss: 0.3577 - val_accuracy: 0.8732\n",
            "Epoch 4/20\n",
            "540/540 [==============================] - 1s 2ms/step - loss: 0.3199 - accuracy: 0.8832 - val_loss: 0.3517 - val_accuracy: 0.8765\n",
            "Epoch 5/20\n",
            "540/540 [==============================] - 1s 2ms/step - loss: 0.2983 - accuracy: 0.8905 - val_loss: 0.3453 - val_accuracy: 0.8747\n",
            "Epoch 6/20\n",
            "540/540 [==============================] - 1s 2ms/step - loss: 0.2848 - accuracy: 0.8957 - val_loss: 0.3251 - val_accuracy: 0.8750\n",
            "Epoch 7/20\n",
            "540/540 [==============================] - 1s 2ms/step - loss: 0.2737 - accuracy: 0.8978 - val_loss: 0.3317 - val_accuracy: 0.8813\n",
            "Epoch 8/20\n",
            "540/540 [==============================] - 1s 2ms/step - loss: 0.2594 - accuracy: 0.9047 - val_loss: 0.3302 - val_accuracy: 0.8793\n",
            "Epoch 9/20\n",
            "540/540 [==============================] - 1s 2ms/step - loss: 0.2518 - accuracy: 0.9060 - val_loss: 0.3337 - val_accuracy: 0.8813\n",
            "Epoch 10/20\n",
            "540/540 [==============================] - 1s 2ms/step - loss: 0.2440 - accuracy: 0.9084 - val_loss: 0.3211 - val_accuracy: 0.8878\n",
            "Epoch 11/20\n",
            "540/540 [==============================] - 1s 2ms/step - loss: 0.2339 - accuracy: 0.9136 - val_loss: 0.3277 - val_accuracy: 0.8873\n",
            "Epoch 12/20\n",
            "540/540 [==============================] - 1s 2ms/step - loss: 0.2281 - accuracy: 0.9150 - val_loss: 0.3378 - val_accuracy: 0.8823\n",
            "Epoch 13/20\n",
            "540/540 [==============================] - 1s 2ms/step - loss: 0.2198 - accuracy: 0.9174 - val_loss: 0.3153 - val_accuracy: 0.8913\n",
            "Epoch 14/20\n",
            "540/540 [==============================] - 1s 2ms/step - loss: 0.2096 - accuracy: 0.9205 - val_loss: 0.3272 - val_accuracy: 0.8873\n",
            "Epoch 15/20\n",
            "540/540 [==============================] - 1s 2ms/step - loss: 0.2034 - accuracy: 0.9241 - val_loss: 0.3262 - val_accuracy: 0.8927\n",
            "Epoch 16/20\n",
            "540/540 [==============================] - 1s 2ms/step - loss: 0.1994 - accuracy: 0.9241 - val_loss: 0.3367 - val_accuracy: 0.8873\n",
            "Epoch 17/20\n",
            "540/540 [==============================] - 1s 2ms/step - loss: 0.1896 - accuracy: 0.9289 - val_loss: 0.3353 - val_accuracy: 0.8910\n",
            "Epoch 18/20\n",
            "540/540 [==============================] - 1s 2ms/step - loss: 0.1852 - accuracy: 0.9302 - val_loss: 0.3308 - val_accuracy: 0.8935\n",
            "Epoch 19/20\n",
            "540/540 [==============================] - 1s 2ms/step - loss: 0.1841 - accuracy: 0.9311 - val_loss: 0.3496 - val_accuracy: 0.8845\n",
            "Epoch 20/20\n",
            "540/540 [==============================] - 1s 2ms/step - loss: 0.1780 - accuracy: 0.9331 - val_loss: 0.3300 - val_accuracy: 0.8942\n",
            "Epoch 1/20\n",
            "540/540 [==============================] - 2s 4ms/step - loss: 0.5973 - accuracy: 0.7810 - val_loss: 0.4260 - val_accuracy: 0.8455\n",
            "Epoch 2/20\n",
            "540/540 [==============================] - 2s 3ms/step - loss: 0.3691 - accuracy: 0.8668 - val_loss: 0.3391 - val_accuracy: 0.8763\n",
            "Epoch 3/20\n",
            "540/540 [==============================] - 2s 3ms/step - loss: 0.3133 - accuracy: 0.8865 - val_loss: 0.3046 - val_accuracy: 0.8858\n",
            "Epoch 4/20\n",
            "540/540 [==============================] - 2s 3ms/step - loss: 0.2805 - accuracy: 0.8986 - val_loss: 0.2919 - val_accuracy: 0.8873\n",
            "Epoch 5/20\n",
            "540/540 [==============================] - 2s 3ms/step - loss: 0.2581 - accuracy: 0.9054 - val_loss: 0.2743 - val_accuracy: 0.9020\n",
            "Epoch 6/20\n",
            "540/540 [==============================] - 2s 3ms/step - loss: 0.2371 - accuracy: 0.9142 - val_loss: 0.2724 - val_accuracy: 0.9008\n",
            "Epoch 7/20\n",
            "540/540 [==============================] - 2s 3ms/step - loss: 0.2227 - accuracy: 0.9184 - val_loss: 0.2646 - val_accuracy: 0.9032\n",
            "Epoch 8/20\n",
            "540/540 [==============================] - 2s 3ms/step - loss: 0.2088 - accuracy: 0.9222 - val_loss: 0.2629 - val_accuracy: 0.9087\n",
            "Epoch 9/20\n",
            "540/540 [==============================] - 2s 3ms/step - loss: 0.1925 - accuracy: 0.9298 - val_loss: 0.2575 - val_accuracy: 0.9023\n",
            "Epoch 10/20\n",
            "540/540 [==============================] - 2s 3ms/step - loss: 0.1806 - accuracy: 0.9338 - val_loss: 0.2713 - val_accuracy: 0.9053\n",
            "Epoch 11/20\n",
            "540/540 [==============================] - 2s 3ms/step - loss: 0.1695 - accuracy: 0.9366 - val_loss: 0.2521 - val_accuracy: 0.9092\n",
            "Epoch 12/20\n",
            "540/540 [==============================] - 2s 3ms/step - loss: 0.1595 - accuracy: 0.9414 - val_loss: 0.2462 - val_accuracy: 0.9138\n",
            "Epoch 13/20\n",
            "540/540 [==============================] - 2s 3ms/step - loss: 0.1465 - accuracy: 0.9465 - val_loss: 0.2628 - val_accuracy: 0.9085\n",
            "Epoch 14/20\n",
            "540/540 [==============================] - 2s 3ms/step - loss: 0.1389 - accuracy: 0.9484 - val_loss: 0.2516 - val_accuracy: 0.9128\n",
            "Epoch 15/20\n",
            "540/540 [==============================] - 2s 3ms/step - loss: 0.1251 - accuracy: 0.9532 - val_loss: 0.2642 - val_accuracy: 0.9087\n",
            "Epoch 16/20\n",
            "540/540 [==============================] - 2s 3ms/step - loss: 0.1183 - accuracy: 0.9568 - val_loss: 0.2834 - val_accuracy: 0.9075\n",
            "Epoch 17/20\n",
            "540/540 [==============================] - 2s 3ms/step - loss: 0.1099 - accuracy: 0.9592 - val_loss: 0.2838 - val_accuracy: 0.9078\n",
            "Epoch 18/20\n",
            "540/540 [==============================] - 2s 3ms/step - loss: 0.1003 - accuracy: 0.9625 - val_loss: 0.2767 - val_accuracy: 0.9157\n",
            "Epoch 19/20\n",
            "540/540 [==============================] - 2s 3ms/step - loss: 0.0921 - accuracy: 0.9657 - val_loss: 0.3076 - val_accuracy: 0.9107\n",
            "Epoch 20/20\n",
            "540/540 [==============================] - 2s 3ms/step - loss: 0.0861 - accuracy: 0.9685 - val_loss: 0.3143 - val_accuracy: 0.9107\n"
          ],
          "name": "stdout"
        }
      ]
    },
    {
      "cell_type": "code",
      "metadata": {
        "id": "zevqqY3Md-a0",
        "outputId": "00685ee6-950f-4392-b4df-6935daa6a8e4",
        "colab": {
          "base_uri": "https://localhost:8080/",
          "height": 463
        }
      },
      "source": [
        "import matplotlib.pyplot as plt\n",
        "\n",
        "plt.figure(figsize=(7,5))\n",
        "plt.plot(dnn_hist.history['accuracy'], 'r--', label='train (DNN)')\n",
        "plt.plot(dnn_hist.history['val_accuracy'], 'r-', label='valid (DNN)')\n",
        "plt.plot(cnn_hist.history['accuracy'], 'b--', label='train (CNN)')\n",
        "plt.plot(cnn_hist.history['val_accuracy'], 'b-', label='valid (CNN)')\n",
        "plt.ylim([0.8,1.005])\n",
        "plt.xlabel('Epoch', fontsize=12)\n",
        "plt.ylabel('Accuracy', fontsize=12)\n",
        "plt.legend(loc='upper left', fontsize=12)\n",
        "plt.title('Accuracy trace plot', fontsize=15)\n",
        "plt.show()\n",
        "\n",
        "dnn_sc = dnn_model.evaluate(test_x, test_y)\n",
        "cnn_sc = cnn_model.evaluate(ext_test_x, test_y)\n",
        "print('Performance of DNN')\n",
        "print('...test accuracy: %.3f, test loss: %.3f'%(dnn_sc[1], dnn_sc[0]))\n",
        "print('Performance of CNN')\n",
        "print('...test accuracy: %.3f, test loss: %.3f'%(cnn_sc[1], cnn_sc[0]))\n"
      ],
      "execution_count": null,
      "outputs": [
        {
          "output_type": "display_data",
          "data": {
            "image/png": "[encoded data removed]",
            "text/plain": [
              "<Figure size 504x360 with 1 Axes>"
            ]
          },
          "metadata": {
            "tags": [],
            "needs_background": "light"
          }
        },
        {
          "output_type": "stream",
          "text": [
            "313/313 [==============================] - 1s 2ms/step - loss: 0.3491 - accuracy: 0.8874\n",
            "313/313 [==============================] - 1s 3ms/step - loss: 0.3375 - accuracy: 0.9098\n",
            "Performance of DNN\n",
            "...test accuracy: 0.887, test loss: 0.349\n",
            "Performance of CNN\n",
            "...test accuracy: 0.910, test loss: 0.338\n"
          ],
          "name": "stdout"
        }
      ]
    }
  ]
}